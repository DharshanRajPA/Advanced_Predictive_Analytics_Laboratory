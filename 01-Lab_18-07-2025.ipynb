{
 "cells": [
  {
   "cell_type": "markdown",
   "id": "1d08a6f8",
   "metadata": {},
   "source": [
    "# 01-Lab_18-07-2025"
   ]
  },
  {
   "cell_type": "markdown",
   "id": "d9b3637b",
   "metadata": {},
   "source": [
    "## Data Visualization"
   ]
  },
  {
   "cell_type": "markdown",
   "id": "76ae1d55",
   "metadata": {},
   "source": [
    "### DataSet Used :- Cars Dataset"
   ]
  },
  {
   "cell_type": "markdown",
   "id": "2adfb2b5",
   "metadata": {},
   "source": [
    "#### Setup Section"
   ]
  },
  {
   "cell_type": "code",
   "execution_count": 5,
   "id": "244c9ef6",
   "metadata": {},
   "outputs": [
    {
     "name": "stdout",
     "output_type": "stream",
     "text": [
      "Collecting pandas\n",
      "  Using cached pandas-2.3.1-cp313-cp313-win_amd64.whl.metadata (19 kB)\n",
      "Collecting numpy\n",
      "  Using cached numpy-2.3.2-cp313-cp313-win_amd64.whl.metadata (60 kB)\n",
      "Collecting matplotlib\n",
      "  Using cached matplotlib-3.10.5-cp313-cp313-win_amd64.whl.metadata (11 kB)\n",
      "Collecting seaborn\n",
      "  Using cached seaborn-0.13.2-py3-none-any.whl.metadata (5.4 kB)\n",
      "Collecting scipy\n",
      "  Using cached scipy-1.16.1-cp313-cp313-win_amd64.whl.metadata (60 kB)\n",
      "Requirement already satisfied: python-dateutil>=2.8.2 in c:\\dharshan raj p a\\college\\laboratory\\advanced_predictive_analytics_laboratory\\.venv\\lib\\site-packages (from pandas) (2.9.0.post0)\n",
      "Collecting pytz>=2020.1 (from pandas)\n",
      "  Using cached pytz-2025.2-py2.py3-none-any.whl.metadata (22 kB)\n",
      "Collecting tzdata>=2022.7 (from pandas)\n",
      "  Using cached tzdata-2025.2-py2.py3-none-any.whl.metadata (1.4 kB)\n",
      "Collecting contourpy>=1.0.1 (from matplotlib)\n",
      "  Using cached contourpy-1.3.3-cp313-cp313-win_amd64.whl.metadata (5.5 kB)\n",
      "Collecting cycler>=0.10 (from matplotlib)\n",
      "  Using cached cycler-0.12.1-py3-none-any.whl.metadata (3.8 kB)\n",
      "Collecting fonttools>=4.22.0 (from matplotlib)\n",
      "  Using cached fonttools-4.59.0-cp313-cp313-win_amd64.whl.metadata (110 kB)\n",
      "Collecting kiwisolver>=1.3.1 (from matplotlib)\n",
      "  Using cached kiwisolver-1.4.8-cp313-cp313-win_amd64.whl.metadata (6.3 kB)\n",
      "Requirement already satisfied: packaging>=20.0 in c:\\dharshan raj p a\\college\\laboratory\\advanced_predictive_analytics_laboratory\\.venv\\lib\\site-packages (from matplotlib) (25.0)\n",
      "Collecting pillow>=8 (from matplotlib)\n",
      "  Using cached pillow-11.3.0-cp313-cp313-win_amd64.whl.metadata (9.2 kB)\n",
      "Collecting pyparsing>=2.3.1 (from matplotlib)\n",
      "  Using cached pyparsing-3.2.3-py3-none-any.whl.metadata (5.0 kB)\n",
      "Requirement already satisfied: six>=1.5 in c:\\dharshan raj p a\\college\\laboratory\\advanced_predictive_analytics_laboratory\\.venv\\lib\\site-packages (from python-dateutil>=2.8.2->pandas) (1.17.0)\n",
      "Using cached pandas-2.3.1-cp313-cp313-win_amd64.whl (11.0 MB)\n",
      "Using cached numpy-2.3.2-cp313-cp313-win_amd64.whl (12.8 MB)\n",
      "Using cached matplotlib-3.10.5-cp313-cp313-win_amd64.whl (8.1 MB)\n",
      "Using cached seaborn-0.13.2-py3-none-any.whl (294 kB)\n",
      "Using cached scipy-1.16.1-cp313-cp313-win_amd64.whl (38.5 MB)\n",
      "Using cached contourpy-1.3.3-cp313-cp313-win_amd64.whl (226 kB)\n",
      "Using cached cycler-0.12.1-py3-none-any.whl (8.3 kB)\n",
      "Using cached fonttools-4.59.0-cp313-cp313-win_amd64.whl (2.2 MB)\n",
      "Using cached kiwisolver-1.4.8-cp313-cp313-win_amd64.whl (71 kB)\n",
      "Using cached pillow-11.3.0-cp313-cp313-win_amd64.whl (7.0 MB)\n",
      "Using cached pyparsing-3.2.3-py3-none-any.whl (111 kB)\n",
      "Using cached pytz-2025.2-py2.py3-none-any.whl (509 kB)\n",
      "Using cached tzdata-2025.2-py2.py3-none-any.whl (347 kB)\n",
      "Installing collected packages: pytz, tzdata, pyparsing, pillow, numpy, kiwisolver, fonttools, cycler, scipy, pandas, contourpy, matplotlib, seaborn\n",
      "\n",
      "   ----------------------------------------  0/13 [pytz]\n",
      "   ----------------------------------------  0/13 [pytz]\n",
      "   ----------------------------------------  0/13 [pytz]\n",
      "   ----------------------------------------  0/13 [pytz]\n",
      "   ----------------------------------------  0/13 [pytz]\n",
      "   --- ------------------------------------  1/13 [tzdata]\n",
      "   --- ------------------------------------  1/13 [tzdata]\n",
      "   --- ------------------------------------  1/13 [tzdata]\n",
      "   --- ------------------------------------  1/13 [tzdata]\n",
      "   ------ ---------------------------------  2/13 [pyparsing]\n",
      "   ------ ---------------------------------  2/13 [pyparsing]\n",
      "   --------- ------------------------------  3/13 [pillow]\n",
      "   --------- ------------------------------  3/13 [pillow]\n",
      "   --------- ------------------------------  3/13 [pillow]\n",
      "   --------- ------------------------------  3/13 [pillow]\n",
      "   --------- ------------------------------  3/13 [pillow]\n",
      "   --------- ------------------------------  3/13 [pillow]\n",
      "   --------- ------------------------------  3/13 [pillow]\n",
      "   --------- ------------------------------  3/13 [pillow]\n",
      "   --------- ------------------------------  3/13 [pillow]\n",
      "   --------- ------------------------------  3/13 [pillow]\n",
      "   --------- ------------------------------  3/13 [pillow]\n",
      "   ------------ ---------------------------  4/13 [numpy]\n",
      "   ------------ ---------------------------  4/13 [numpy]\n",
      "   ------------ ---------------------------  4/13 [numpy]\n",
      "   ------------ ---------------------------  4/13 [numpy]\n",
      "   ------------ ---------------------------  4/13 [numpy]\n",
      "   ------------ ---------------------------  4/13 [numpy]\n",
      "   ------------ ---------------------------  4/13 [numpy]\n",
      "   ------------ ---------------------------  4/13 [numpy]\n",
      "   ------------ ---------------------------  4/13 [numpy]\n",
      "   ------------ ---------------------------  4/13 [numpy]\n",
      "   ------------ ---------------------------  4/13 [numpy]\n",
      "   ------------ ---------------------------  4/13 [numpy]\n",
      "   ------------ ---------------------------  4/13 [numpy]\n",
      "   ------------ ---------------------------  4/13 [numpy]\n",
      "   ------------ ---------------------------  4/13 [numpy]\n",
      "   ------------ ---------------------------  4/13 [numpy]\n",
      "   ------------ ---------------------------  4/13 [numpy]\n",
      "   ------------ ---------------------------  4/13 [numpy]\n",
      "   ------------ ---------------------------  4/13 [numpy]\n",
      "   ------------ ---------------------------  4/13 [numpy]\n",
      "   ------------ ---------------------------  4/13 [numpy]\n",
      "   ------------ ---------------------------  4/13 [numpy]\n",
      "   ------------ ---------------------------  4/13 [numpy]\n",
      "   ------------ ---------------------------  4/13 [numpy]\n",
      "   ------------ ---------------------------  4/13 [numpy]\n",
      "   ------------ ---------------------------  4/13 [numpy]\n",
      "   ------------ ---------------------------  4/13 [numpy]\n",
      "   ------------ ---------------------------  4/13 [numpy]\n",
      "   ------------ ---------------------------  4/13 [numpy]\n",
      "   ------------ ---------------------------  4/13 [numpy]\n",
      "   ------------ ---------------------------  4/13 [numpy]\n",
      "   ------------ ---------------------------  4/13 [numpy]\n",
      "   ------------ ---------------------------  4/13 [numpy]\n",
      "   ------------ ---------------------------  4/13 [numpy]\n",
      "   ------------ ---------------------------  4/13 [numpy]\n",
      "   ------------ ---------------------------  4/13 [numpy]\n",
      "   ------------ ---------------------------  4/13 [numpy]\n",
      "   ------------ ---------------------------  4/13 [numpy]\n",
      "   ------------ ---------------------------  4/13 [numpy]\n",
      "   ------------ ---------------------------  4/13 [numpy]\n",
      "   ------------ ---------------------------  4/13 [numpy]\n",
      "   ------------ ---------------------------  4/13 [numpy]\n",
      "   ------------ ---------------------------  4/13 [numpy]\n",
      "   ------------ ---------------------------  4/13 [numpy]\n",
      "   ------------ ---------------------------  4/13 [numpy]\n",
      "   ------------ ---------------------------  4/13 [numpy]\n",
      "   ------------ ---------------------------  4/13 [numpy]\n",
      "   ------------ ---------------------------  4/13 [numpy]\n",
      "   ------------ ---------------------------  4/13 [numpy]\n",
      "   ------------ ---------------------------  4/13 [numpy]\n",
      "   ------------ ---------------------------  4/13 [numpy]\n",
      "   ------------ ---------------------------  4/13 [numpy]\n",
      "   ------------ ---------------------------  4/13 [numpy]\n",
      "   ------------ ---------------------------  4/13 [numpy]\n",
      "   ------------ ---------------------------  4/13 [numpy]\n",
      "   ------------ ---------------------------  4/13 [numpy]\n",
      "   ------------ ---------------------------  4/13 [numpy]\n",
      "   ------------ ---------------------------  4/13 [numpy]\n",
      "   --------------- ------------------------  5/13 [kiwisolver]\n",
      "\n",
      "Note: you may need to restart the kernel to use updated packages.\n"
     ]
    },
    {
     "name": "stderr",
     "output_type": "stream",
     "text": [
      "ERROR: Could not install packages due to an OSError: [WinError 32] The process cannot access the file because it is being used by another process: 'c:\\\\Dharshan Raj P A\\\\College\\\\Laboratory\\\\Advanced_Predictive_Analytics_Laboratory\\\\.venv\\\\Lib\\\\site-packages\\\\kiwisolver\\\\__init__.py'\n",
      "Check the permissions.\n",
      "\n",
      "\n",
      "[notice] A new release of pip is available: 25.1.1 -> 25.2\n",
      "[notice] To update, run: python.exe -m pip install --upgrade pip\n"
     ]
    }
   ],
   "source": [
    "pip install pandas numpy matplotlib seaborn scipy"
   ]
  },
  {
   "cell_type": "code",
   "execution_count": 6,
   "id": "669875d4",
   "metadata": {},
   "outputs": [
    {
     "ename": "ModuleNotFoundError",
     "evalue": "No module named 'pandas'",
     "output_type": "error",
     "traceback": [
      "\u001b[31m---------------------------------------------------------------------------\u001b[39m",
      "\u001b[31mModuleNotFoundError\u001b[39m                       Traceback (most recent call last)",
      "\u001b[36mCell\u001b[39m\u001b[36m \u001b[39m\u001b[32mIn[6]\u001b[39m\u001b[32m, line 3\u001b[39m\n\u001b[32m      1\u001b[39m \u001b[38;5;66;03m# 1. Setup\u001b[39;00m\n\u001b[32m      2\u001b[39m \u001b[38;5;28;01mimport\u001b[39;00m\u001b[38;5;250m \u001b[39m\u001b[34;01mnumpy\u001b[39;00m\u001b[38;5;250m \u001b[39m\u001b[38;5;28;01mas\u001b[39;00m\u001b[38;5;250m \u001b[39m\u001b[34;01mnp\u001b[39;00m\n\u001b[32m----> \u001b[39m\u001b[32m3\u001b[39m \u001b[38;5;28;01mimport\u001b[39;00m\u001b[38;5;250m \u001b[39m\u001b[34;01mpandas\u001b[39;00m\u001b[38;5;250m \u001b[39m\u001b[38;5;28;01mas\u001b[39;00m\u001b[38;5;250m \u001b[39m\u001b[34;01mpd\u001b[39;00m\n\u001b[32m      4\u001b[39m \u001b[38;5;28;01mimport\u001b[39;00m\u001b[38;5;250m \u001b[39m\u001b[34;01mmatplotlib\u001b[39;00m\u001b[34;01m.\u001b[39;00m\u001b[34;01mpyplot\u001b[39;00m\u001b[38;5;250m \u001b[39m\u001b[38;5;28;01mas\u001b[39;00m\u001b[38;5;250m \u001b[39m\u001b[34;01mplt\u001b[39;00m\n\u001b[32m      5\u001b[39m \u001b[38;5;28;01mimport\u001b[39;00m\u001b[38;5;250m \u001b[39m\u001b[34;01mseaborn\u001b[39;00m\u001b[38;5;250m \u001b[39m\u001b[38;5;28;01mas\u001b[39;00m\u001b[38;5;250m \u001b[39m\u001b[34;01msns\u001b[39;00m\n",
      "\u001b[31mModuleNotFoundError\u001b[39m: No module named 'pandas'"
     ]
    }
   ],
   "source": [
    "# 1. Setup\n",
    "import numpy as np\n",
    "import pandas as pd\n",
    "import matplotlib.pyplot as plt\n",
    "import seaborn as sns\n",
    "from scipy import stats\n",
    "\n",
    "%matplotlib inline\n",
    "\n",
    "sns.set_theme(style=\"whitegrid\", font_scale=1.1)"
   ]
  },
  {
   "cell_type": "markdown",
   "id": "a96b621b",
   "metadata": {},
   "source": [
    "#### Usage Of CSV Dataset"
   ]
  },
  {
   "cell_type": "code",
   "execution_count": null,
   "id": "0ec27df9",
   "metadata": {},
   "outputs": [],
   "source": [
    "cars = pd.read_csv('Dataset/cars.csv') \n",
    "print(\"Cars Dataset loaded — shape:\", cars.shape)\n",
    "display(cars.head())\n",
    "print(cars.head())\n",
    "print(cars.describe())\n",
    "print(cars.isnull().sum())"
   ]
  },
  {
   "cell_type": "markdown",
   "id": "aa06c3a7",
   "metadata": {},
   "source": [
    "#### Data Cleaning & Preprocessing"
   ]
  },
  {
   "cell_type": "code",
   "execution_count": null,
   "id": "8ade15c8",
   "metadata": {},
   "outputs": [],
   "source": [
    "# 1.1 Clean price: strip “Rs.”, commas → numeric\n",
    "cars['Price'] = (\n",
    "    cars['Ex-Showroom_Price']\n",
    "      .str.replace(r'[^0-9]', '', regex=True)\n",
    "      .astype(float)\n",
    ")\n",
    "\n",
    "# 1.2 Clean displacement: strip “ cc” → numeric\n",
    "cars['Displacement'] = (\n",
    "    cars['Displacement']\n",
    "      .str.replace(' cc', '', regex=False)\n",
    "      .astype(float)\n",
    ")\n",
    "\n",
    "# 1.3 Quick sanity checks\n",
    "print(\"\\n--- After Cleaning ---\")\n",
    "print(cars[['Price','Displacement']].describe())\n",
    "print(\"\\nMissing values in Price & Displacement:\")\n",
    "print(cars[['Price','Displacement']].isnull().sum())\n",
    "\n",
    "# Numeric features for “pairplot” & “heatmap”\n",
    "numeric_cols = ['Cylinders','Valves_Per_Cylinder','Doors',\n",
    "                'Seating_Capacity','Number_of_Airbags',\n",
    "                'USB_Ports','Price','Displacement']\n",
    "\n",
    "# Categorical features with 2–10 unique values for grouping\n",
    "categorical_cols = [\n",
    "    'Drivetrain',\n",
    "    'Emission_Norm',\n",
    "    'Cylinder_Configuration'\n",
    "]\n",
    "print(\"Numeric:\", numeric_cols)\n",
    "print(\"Categorical:\", categorical_cols)\n"
   ]
  },
  {
   "cell_type": "markdown",
   "id": "25e55217",
   "metadata": {},
   "source": [
    "#### Bar Chart"
   ]
  },
  {
   "cell_type": "code",
   "execution_count": null,
   "id": "89defc77",
   "metadata": {},
   "outputs": [],
   "source": [
    "# --- 1. Bar Chart: Counts of a categorical column (e.g., 'fuelType')\n",
    "plt.figure(figsize=(6,4))\n",
    "cars['fuelType'].value_counts().plot(kind='bar')\n",
    "plt.title('Bar Chart of Fuel Types')\n",
    "plt.xlabel('Fuel Type')\n",
    "plt.ylabel('Count')\n",
    "plt.show()"
   ]
  },
  {
   "cell_type": "markdown",
   "id": "63d4d76f",
   "metadata": {},
   "source": [
    "#### Line Chart"
   ]
  },
  {
   "cell_type": "code",
   "execution_count": null,
   "id": "b77630e8",
   "metadata": {},
   "outputs": [],
   "source": [
    "# 2. Line Chart: Price over Index (trend)\n",
    "plt.figure(figsize=(6,4))\n",
    "plt.plot(cars.index, cars['Price'], linewidth=1.5)\n",
    "plt.title('Line Chart of Car Prices (Index Trend)')\n",
    "plt.xlabel('Dataset Index')\n",
    "plt.ylabel('Price (INR)')\n",
    "plt.show()"
   ]
  },
  {
   "cell_type": "markdown",
   "id": "149c9e65",
   "metadata": {},
   "source": [
    "#### Histogram"
   ]
  },
  {
   "cell_type": "code",
   "execution_count": null,
   "id": "f9a78d8c",
   "metadata": {},
   "outputs": [],
   "source": [
    "# 3. Histogram: Price distribution\n",
    "plt.figure(figsize=(6,4))\n",
    "plt.hist(cars['Price'], bins=25)\n",
    "plt.title('Histogram of Car Prices')\n",
    "plt.xlabel('Price (INR)')\n",
    "plt.ylabel('Frequency')\n",
    "plt.show()"
   ]
  },
  {
   "cell_type": "markdown",
   "id": "ffdc8156",
   "metadata": {},
   "source": [
    "#### Box Plot"
   ]
  },
  {
   "cell_type": "code",
   "execution_count": null,
   "id": "3691aa6a",
   "metadata": {},
   "outputs": [],
   "source": [
    "# 4. Boxplot: Price by Emission Norm\n",
    "plt.figure(figsize=(6,4))\n",
    "sns.boxplot(x='Emission_Norm', y='Price', data=cars)\n",
    "plt.title('Boxplot of Price by Emission Norm')\n",
    "plt.show()"
   ]
  },
  {
   "cell_type": "markdown",
   "id": "15f2e441",
   "metadata": {},
   "source": [
    "#### Violin Plot"
   ]
  },
  {
   "cell_type": "code",
   "execution_count": null,
   "id": "4ff565ed",
   "metadata": {},
   "outputs": [],
   "source": [
    "# 5. Violin Plot: Price by Emission Norm\n",
    "plt.figure(figsize=(6,4))\n",
    "sns.violinplot(x='Emission_Norm', y='Price', data=cars)\n",
    "plt.title('Violin Plot of Price by Emission Norm')\n",
    "plt.show()"
   ]
  },
  {
   "cell_type": "markdown",
   "id": "98646b8d",
   "metadata": {},
   "source": [
    "#### Scatter Plot"
   ]
  },
  {
   "cell_type": "code",
   "execution_count": null,
   "id": "cffe62cc",
   "metadata": {},
   "outputs": [],
   "source": [
    "# 6. Scatter Plot: Displacement vs Price\n",
    "plt.figure(figsize=(6,4))\n",
    "plt.scatter(cars['Displacement'], cars['Price'], alpha=0.6)\n",
    "plt.xlabel('Displacement (cc)')\n",
    "plt.ylabel('Price (INR)')\n",
    "plt.title('Scatter Plot: Displacement vs Price')\n",
    "plt.show()"
   ]
  },
  {
   "cell_type": "markdown",
   "id": "ef7e2748",
   "metadata": {},
   "source": [
    "#### KDE Plot"
   ]
  },
  {
   "cell_type": "code",
   "execution_count": null,
   "id": "3bf25875",
   "metadata": {},
   "outputs": [],
   "source": [
    "# 7. KDE Plot: Price density\n",
    "plt.figure(figsize=(6,4))\n",
    "sns.kdeplot(cars['Price'], fill=True)\n",
    "plt.title('KDE Plot of Car Prices')\n",
    "plt.xlabel('Price (INR)')\n",
    "plt.show()"
   ]
  },
  {
   "cell_type": "markdown",
   "id": "67ffefa4",
   "metadata": {},
   "source": [
    "#### Pair Plot"
   ]
  },
  {
   "cell_type": "code",
   "execution_count": null,
   "id": "194e3fdd",
   "metadata": {},
   "outputs": [],
   "source": [
    "# 8. Pairplot: Numeric relationships\n",
    "sns.pairplot(cars[numeric_cols])\n",
    "plt.suptitle('Pairplot of Key Numeric Features', y=1.02)\n",
    "plt.show()"
   ]
  },
  {
   "cell_type": "markdown",
   "id": "0cc05880",
   "metadata": {},
   "source": [
    "#### Corelation Heatmap"
   ]
  },
  {
   "cell_type": "code",
   "execution_count": null,
   "id": "0cb44143",
   "metadata": {},
   "outputs": [],
   "source": [
    "# 9. Correlation Heatmap\n",
    "plt.figure(figsize=(8,6))\n",
    "corr = cars[numeric_cols].corr()\n",
    "sns.heatmap(corr, annot=True, cmap='coolwarm', fmt=\".2f\")\n",
    "plt.title('Correlation Heatmap')\n",
    "plt.show()"
   ]
  },
  {
   "cell_type": "markdown",
   "id": "c911f00c",
   "metadata": {},
   "source": [
    "#### QQ Plot"
   ]
  },
  {
   "cell_type": "code",
   "execution_count": null,
   "id": "fc34c22c",
   "metadata": {},
   "outputs": [],
   "source": [
    "# 10. QQ Plot: Price normality check\n",
    "plt.figure(figsize=(6,4))\n",
    "stats.probplot(cars['Price'], dist=\"norm\", plot=plt)\n",
    "plt.title('QQ Plot for Car Prices')\n",
    "plt.show()"
   ]
  },
  {
   "cell_type": "markdown",
   "id": "4ae701d8",
   "metadata": {},
   "source": [
    "#### Matrix Of Charts using SubPlots"
   ]
  },
  {
   "cell_type": "code",
   "execution_count": null,
   "id": "fad5c14a",
   "metadata": {},
   "outputs": [],
   "source": [
    "# 11. Matrix of Charts (2x2 Subplots)\n",
    "fig, axes = plt.subplots(2,2, figsize=(12,8))\n",
    "\n",
    "axes[0,0].hist(cars['Price'], bins=15)\n",
    "axes[0,0].set_title('Histogram: Price')\n",
    "\n",
    "axes[0,1].scatter(cars['Displacement'], cars['Price'], alpha=0.6)\n",
    "axes[0,1].set_title('Scatter: Disp vs Price')\n",
    "\n",
    "axes[1,0].boxplot(cars['Cylinders'].dropna())\n",
    "axes[1,0].set_title('Boxplot: Cylinders')\n",
    "\n",
    "sns.kdeplot(cars['Displacement'], fill=True, ax=axes[1,1])\n",
    "axes[1,1].set_title('KDE: Displacement')\n",
    "\n",
    "plt.suptitle('Matrix Chart View', fontsize=16, y=1.02)\n",
    "plt.tight_layout()\n",
    "plt.show()"
   ]
  },
  {
   "cell_type": "markdown",
   "id": "3682aeb8",
   "metadata": {},
   "source": [
    "#### Seaborn FacetGrid View "
   ]
  },
  {
   "cell_type": "code",
   "execution_count": null,
   "id": "2dcc7029",
   "metadata": {},
   "outputs": [],
   "source": [
    "# 12. FacetGrid: Price distrib. by Emission Norm\n",
    "facet = sns.FacetGrid(cars, col='Emission_Norm', col_wrap=3, height=4)\n",
    "facet.map(plt.hist, 'Price', bins=10)\n",
    "facet.fig.suptitle('Histogram of Price by Emission Norm', y=1.05)\n",
    "plt.show()"
   ]
  },
  {
   "cell_type": "markdown",
   "id": "ea01d46a",
   "metadata": {},
   "source": [
    "#### Exploratory Data Analysis (EDA) "
   ]
  },
  {
   "cell_type": "code",
   "execution_count": null,
   "id": "2cce92cc",
   "metadata": {},
   "outputs": [],
   "source": [
    "print(\"\\n--- EDA Summary Statistics ---\")\n",
    "display(cars[numeric_cols].describe().T)\n",
    "\n",
    "print(\"\\n--- Missing Values by Column ---\")\n",
    "display(cars[numeric_cols + categorical_cols].isnull().sum())\n",
    "\n",
    "# Pairplot with Hue (if categories ≤ 4):\n",
    "if cars['Emission_Norm'].nunique() <= 4:\n",
    "    sns.pairplot(cars[numeric_cols + ['Emission_Norm']], hue='Emission_Norm')\n",
    "    plt.suptitle('Pairplot with Emission Norm Hue', y=1.02)\n",
    "    plt.show()"
   ]
  }
 ],
 "metadata": {
  "kernelspec": {
   "display_name": ".venv",
   "language": "python",
   "name": "python3"
  },
  "language_info": {
   "codemirror_mode": {
    "name": "ipython",
    "version": 3
   },
   "file_extension": ".py",
   "mimetype": "text/x-python",
   "name": "python",
   "nbconvert_exporter": "python",
   "pygments_lexer": "ipython3",
   "version": "3.13.5"
  }
 },
 "nbformat": 4,
 "nbformat_minor": 5
}
